{
 "cells": [
  {
   "cell_type": "code",
   "execution_count": 8,
   "id": "c3c8734e-71b5-455c-abea-5b59972caf22",
   "metadata": {},
   "outputs": [
    {
     "name": "stdout",
     "output_type": "stream",
     "text": [
      "Enter a stock symbol to check its sentiment:\n"
     ]
    },
    {
     "name": "stdin",
     "output_type": "stream",
     "text": [
      " AAPL\n"
     ]
    },
    {
     "name": "stdout",
     "output_type": "stream",
     "text": [
      "Overall sentiment for AAPL: Positive\n"
     ]
    }
   ],
   "source": [
    "import requests\n",
    "import pandas as pd\n",
    "from textblob import TextBlob\n",
    "\n",
    "# Function to perform sentiment analysis\n",
    "def get_sentiment(text):\n",
    "    if text:\n",
    "        blob = TextBlob(text)\n",
    "        sentiment_score = blob.sentiment.polarity\n",
    "        if sentiment_score > 0:\n",
    "            return 'Positive'\n",
    "        elif sentiment_score < 0:\n",
    "            return 'Negative'\n",
    "        else:\n",
    "            return 'Neutral'\n",
    "    else:\n",
    "        return 'Neutral'\n",
    "\n",
    "# Function to fetch news articles related to stock symbols\n",
    "def get_stock_news(api_key, stock_symbols):\n",
    "    base_url = \"https://newsapi.org/v2/everything\"\n",
    "    all_news = []\n",
    "\n",
    "    for stock_symbol in stock_symbols:\n",
    "        params = {\n",
    "            \"q\": stock_symbol,\n",
    "            \"apiKey\": api_key\n",
    "        }\n",
    "\n",
    "        try:\n",
    "            response = requests.get(base_url, params=params)\n",
    "            data = response.json()\n",
    "\n",
    "            if response.status_code == 200 and data.get(\"status\") == \"ok\":\n",
    "                articles = data.get(\"articles\", [])\n",
    "                for article in articles:\n",
    "                    title = article.get(\"title\", \"\")\n",
    "                    description = article.get(\"description\", \"\")\n",
    "                    if title and description:\n",
    "                        news_entry = {\n",
    "                            \"Stock Symbol\": stock_symbol,\n",
    "                            \"Title\": title,\n",
    "                            \"Description\": description,\n",
    "                            \"URL\": article.get(\"url\", \"\"),\n",
    "                            \"Published At\": article.get(\"publishedAt\", \"\"),\n",
    "                            \"Sentiment\": get_sentiment(title + \" \" + description)\n",
    "                        }\n",
    "                        all_news.append(news_entry)\n",
    "            else:\n",
    "                print(f\"Failed to retrieve news for {stock_symbol}. Error: {data.get('message', 'Unknown error')}\")\n",
    "        except Exception as e:\n",
    "            print(f\"Failed to retrieve news for {stock_symbol}. Error: {e}\")\n",
    "\n",
    "    return all_news\n",
    "\n",
    "# Function to check sentiment of a particular stock symbol\n",
    "def check_stock_sentiment(stock_symbol, df):\n",
    "    stock_data = df[df['Stock Symbol'] == stock_symbol]\n",
    "    if not stock_data.empty:\n",
    "        overall_sentiment = stock_data['Sentiment'].value_counts().idxmax()\n",
    "        print(f\"Overall sentiment for {stock_symbol}: {overall_sentiment}\")\n",
    "    else:\n",
    "        print(f\"No news found for {stock_symbol}\")\n",
    "\n",
    "# Load API key from a file (assuming 'apikey' file exists with API key)\n",
    "api_key = open('apikey', 'r').read()\n",
    "\n",
    "# Define stock symbols to fetch news for\n",
    "stock_symbols = ['MSFT', 'AAPL', 'NVDA', 'AMZN', 'GOOG', 'GOOGL', 'META', 'BRK/A', 'BRK/B', 'LLY']\n",
    "\n",
    "# Fetch news articles for the specified stock symbols\n",
    "stock_news = get_stock_news(api_key, stock_symbols)\n",
    "\n",
    "# Create DataFrame from the fetched news data\n",
    "df = pd.DataFrame(stock_news)\n",
    "\n",
    "# Print instructions for user input\n",
    "print(\"Enter a stock symbol to check its sentiment:\")\n",
    "user_input = input().upper()\n",
    "\n",
    "# Check sentiment for the specified stock symbol\n",
    "check_stock_sentiment(user_input, df)"
   ]
  },
  {
   "cell_type": "code",
   "execution_count": 2,
   "id": "e0f81c1e-a534-45cc-acf5-871af927c096",
   "metadata": {},
   "outputs": [],
   "source": [
    "from azure.storage.blob import BlobServiceClient\n",
    "\n",
    "# Function to upload CSV file to Azure Blob Storage\n",
    "def upload_to_azure_blob(csv_file, container_name, blob_name, connection_string):\n",
    "    try:\n",
    "        blob_service_client = BlobServiceClient.from_connection_string(connection_string)\n",
    "        container_client = blob_service_client.get_container_client(container_name)\n",
    "        blob_client = container_client.get_blob_client(blob_name)\n",
    "        \n",
    "        with open(csv_file, \"rb\") as data:\n",
    "            blob_client.upload_blob(data, overwrite=True)\n",
    "            print(f\"Uploaded to Azure Blob Storage in container '{container_name}' as '{blob_name}'.\")\n",
    "    except Exception as e:\n",
    "        print(f\"An error occurred during upload to Azure Blob Storage: {e}\")"
   ]
  },
  {
   "cell_type": "code",
   "execution_count": 7,
   "id": "090a3fff-91a4-4743-b62b-4f106db603b8",
   "metadata": {},
   "outputs": [],
   "source": [
    "# # Export the DataFrame to a CSV file\n",
    "# output_csv_file = \"sentiment_analysis_results.csv\"\n",
    "# df.to_csv(output_csv_file, index=False)\n",
    "\n",
    "# print(f\"Sentiment analysis results have been exported to {output_csv_file}.\")"
   ]
  },
  {
   "cell_type": "code",
   "execution_count": 6,
   "id": "a98dbec9-6faa-459d-abf1-c9d6fa3d3c95",
   "metadata": {},
   "outputs": [
    {
     "name": "stdout",
     "output_type": "stream",
     "text": [
      "Uploaded to Azure Blob Storage in container 'analysis4' as 'sentiment_analysis_results.csv'.\n",
      "Sentiment analysis results have been exported to sentiment_analysis_results.csv and uploaded to Azure Blob Storage.\n"
     ]
    }
   ],
   "source": [
    "# Upload the CSV file to Azure Blob Storage\n",
    "container_name = \"analysis4\"  # Replace with your actual container name\n",
    "blob_name = \"sentiment_analysis_results.csv\"\n",
    "connection_string = \"DefaultEndpointsProtocol=https;AccountName=sentiment4;AccountKey=FZwusBEA1ckXRH8EOrGQ3dxC2SUgSOY8rT4fE3CGRgHep5+7hyzqnxfmL2nmbAmtcArcM5C0zZaS+AStusyS9g==;EndpointSuffix=core.windows.net\"  # Replace with your actual connection string\n",
    "upload_to_azure_blob(output_csv_file, container_name, blob_name, connection_string)\n",
    "\n",
    "print(f\"Sentiment analysis results have been exported to {output_csv_file} and uploaded to Azure Blob Storage.\")\n"
   ]
  },
  {
   "cell_type": "code",
   "execution_count": null,
   "id": "accb38ee-7621-44df-9b3a-40eeec20ca82",
   "metadata": {},
   "outputs": [],
   "source": []
  },
  {
   "cell_type": "code",
   "execution_count": null,
   "id": "d8a47035-85cd-44e3-8a25-a1af7e468343",
   "metadata": {},
   "outputs": [],
   "source": []
  },
  {
   "cell_type": "code",
   "execution_count": null,
   "id": "656a088f-d28b-40fe-8444-831b31ce2562",
   "metadata": {},
   "outputs": [],
   "source": []
  }
 ],
 "metadata": {
  "kernelspec": {
   "display_name": "Python 3 (ipykernel)",
   "language": "python",
   "name": "python3"
  },
  "language_info": {
   "codemirror_mode": {
    "name": "ipython",
    "version": 3
   },
   "file_extension": ".py",
   "mimetype": "text/x-python",
   "name": "python",
   "nbconvert_exporter": "python",
   "pygments_lexer": "ipython3",
   "version": "3.9.13"
  }
 },
 "nbformat": 4,
 "nbformat_minor": 5
}
